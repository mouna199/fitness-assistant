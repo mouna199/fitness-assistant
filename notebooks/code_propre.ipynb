{
 "cells": [
  {
   "cell_type": "code",
   "execution_count": null,
   "id": "427fcd16",
   "metadata": {},
   "outputs": [],
   "source": [
    "import pandas as pd \n",
    "import minsearch\n",
    "from dotenv import dotenv_values\n",
    "from openai import OpenAI"
   ]
  },
  {
   "cell_type": "code",
   "execution_count": null,
   "id": "236cf76b",
   "metadata": {},
   "outputs": [],
   "source": [
    "path = 'data/data.csv'\n",
    "def get_data(path):\n",
    "    df = pd.read_csv(path,sep=',')\n",
    "    documents = df.to_dict(orient='records')\n",
    "    return documents\n"
   ]
  },
  {
   "cell_type": "code",
   "execution_count": null,
   "id": "cce60ba0",
   "metadata": {},
   "outputs": [],
   "source": [
    "def fit_document(documents):\n",
    "    index = minsearch.Index(\n",
    "        text_fields=['exercise_name', 'type_of_activity', 'type_of_equipment', 'body_part',\n",
    "           'type', 'muscle_groups_activated', 'instructions'],\n",
    "        keyword_fields=[]\n",
    "    )\n",
    "    index.fit(documents)\n",
    "    return index\n"
   ]
  },
  {
   "cell_type": "code",
   "execution_count": null,
   "id": "0856d8c7",
   "metadata": {},
   "outputs": [],
   "source": [
    "q = \"give me exercice for hamstrings\"\n",
    "documents = get_data(path)\n",
    "index = fit_document(documents)"
   ]
  },
  {
   "cell_type": "code",
   "execution_count": null,
   "id": "76e092af",
   "metadata": {},
   "outputs": [],
   "source": [
    "def search(q):\n",
    "    results = index.search(\n",
    "        query = q,\n",
    "        num_results = 5\n",
    "    )\n",
    "    return results"
   ]
  },
  {
   "cell_type": "code",
   "execution_count": null,
   "id": "4c1bc89d",
   "metadata": {},
   "outputs": [],
   "source": [
    "\n",
    "env_vars = dotenv_values(\".envrc\")  # charge les variables du .envrc\n",
    "api_key = env_vars[\"OPENAI_API_KEY\"]\n",
    "def llm(prompt, model = 'gpt-4o-mini'):\n",
    "    client = OpenAI(api_key=api_key)\n",
    "    response = client.chat.completions.create(\n",
    "        model = model,\n",
    "        messages = [{\"role\":\"user\",\"content\":prompt}],\n",
    "    )   \n",
    "    return response.choices[0].message.content"
   ]
  },
  {
   "cell_type": "code",
   "execution_count": null,
   "id": "8e3ef44c",
   "metadata": {},
   "outputs": [],
   "source": [
    "prompt_template = \"\"\"\n",
    "You are a fitness coach.Answer the QUESTION based on the CONTEXT.\n",
    "Use only the facts from the CONTEXT when answering the QUESTION.\n",
    "If the CONTEXT doesn't contain the answer, output I don't know.\n",
    "QUESTION: {question}\n",
    "CONTEXT:{context}\n",
    "\"\"\""
   ]
  },
  {
   "cell_type": "code",
   "execution_count": null,
   "id": "a54e1aa1",
   "metadata": {},
   "outputs": [],
   "source": [
    "entry_template = \"\"\"\n",
    "exercise_name: {exercise_name}\n",
    "type_of_activity: {type_of_activity}\n",
    "type_of_equipment: {type_of_equipment}\n",
    "body_part: {body_part}\n",
    "type: {type}\n",
    "muscle_groups_activated: {muscle_groups_activated}\n",
    "instructions: {instructions}\n",
    "\"\"\".strip()\n"
   ]
  },
  {
   "cell_type": "code",
   "execution_count": null,
   "id": "ae48d298",
   "metadata": {},
   "outputs": [],
   "source": [
    "def build_prompt(results,q):\n",
    "    context = \"\"\n",
    "    for doc in results:\n",
    "        context = context + entry_template.format(**doc) + \"\\n\\n\"\n",
    "    prompt = prompt_template.format(question=q, context=context)\n",
    "    return prompt"
   ]
  },
  {
   "cell_type": "code",
   "execution_count": null,
   "id": "441bf165",
   "metadata": {},
   "outputs": [],
   "source": [
    "def rag(q):\n",
    "    results = search(q)\n",
    "    print(results)\n",
    "    prompt = build_prompt(results,q)\n",
    "    response = llm(prompt)\n",
    "    return response\n"
   ]
  },
  {
   "cell_type": "code",
   "execution_count": null,
   "id": "18b627fb",
   "metadata": {},
   "outputs": [],
   "source": [
    "response = rag(q)\n",
    "print(response)"
   ]
  },
  {
   "cell_type": "markdown",
   "id": "ef1a7933",
   "metadata": {},
   "source": [
    "# Data ingestion in Qdrant\n",
    "1.Preprocess data\n",
    "\n",
    "2.Vector embedding\n",
    "\n",
    "3.Vector indexing\n",
    "\n",
    "4.Ingestion in Qdrant\n"
   ]
  },
  {
   "cell_type": "markdown",
   "id": "064fa985",
   "metadata": {},
   "source": [
    "2.Vector embedding"
   ]
  },
  {
   "cell_type": "code",
   "execution_count": null,
   "id": "c039c24a",
   "metadata": {},
   "outputs": [],
   "source": [
    "from qdrant_client import QdrantClient\n",
    "\n",
    "client = QdrantClient(url=\"http://localhost:6333\")"
   ]
  },
  {
   "cell_type": "code",
   "execution_count": null,
   "id": "af2122fd",
   "metadata": {},
   "outputs": [],
   "source": [
    "\n",
    "def prepare_text(doc):\n",
    "    return f\"{doc['exercise_name']} , {doc['type_of_activity']}, {doc['type_of_equipment']} , {doc['body_part']} , {doc['type']} , {doc['muscle_groups_activated']} , {doc['instructions']}\"\n",
    "text = [prepare_text(doc) for doc in documents]"
   ]
  },
  {
   "cell_type": "code",
   "execution_count": null,
   "id": "406d9dd6",
   "metadata": {},
   "outputs": [],
   "source": [
    "from sentence_transformers import SentenceTransformer\n",
    "\n",
    "# 1. Charger un modèle d'embedding léger\n",
    "model = SentenceTransformer(\"all-MiniLM-L6-v2\",device=\"cpu\")\n",
    "\n",
    "# 3. Génération des vecteurs (embeddings)\n",
    "embeddings = model.encode(\n",
    "    text,\n",
    "    show_progress_bar=True,     # Affiche la barre de chargement\n",
    "    convert_to_numpy=True,      # Retourne des vecteurs NumPy\n",
    "    normalize_embeddings=True   # (Optionnel) pour normaliser (utile si tu utilises cosine)\n",
    ")\n"
   ]
  },
  {
   "cell_type": "code",
   "execution_count": null,
   "id": "0c68a25d",
   "metadata": {},
   "outputs": [],
   "source": []
  },
  {
   "cell_type": "code",
   "execution_count": null,
   "id": "fce3b1e2",
   "metadata": {},
   "outputs": [],
   "source": [
    "embeddings.shape\n",
    "# Create a collection\n",
    "from qdrant_client.models import Distance, VectorParams\n",
    "\n",
    "client.recreate_collection(\n",
    "    collection_name=\"fitness_collection\",\n",
    "    vectors_config=VectorParams(size=384, distance=Distance.COSINE),\n",
    ")"
   ]
  },
  {
   "cell_type": "code",
   "execution_count": null,
   "id": "774a4e02",
   "metadata": {},
   "outputs": [],
   "source": [
    "from qdrant_client.http.models import PointStruct\n",
    "\n",
    "points = [\n",
    "    PointStruct(\n",
    "        id=i,\n",
    "        vector=embeddings[i],\n",
    "        payload=documents[i]\n",
    "    )\n",
    "    for i in range(len(documents))\n",
    "]\n",
    "\n",
    "client.upsert(\n",
    "    collection_name=\"fitness_collection\",\n",
    "    points=points\n",
    ")\n"
   ]
  },
  {
   "cell_type": "code",
   "execution_count": null,
   "id": "7d3eb08f",
   "metadata": {},
   "outputs": [],
   "source": [
    "def search_with_qdrant(q):\n",
    "    q_emb = model.encode(\n",
    "    q,\n",
    "    convert_to_numpy=True,\n",
    "    normalize_embeddings = True\n",
    ")\n",
    "    search_result = client.search(\n",
    "        collection_name=\"fitness_collection\",\n",
    "        query_vector=q_emb,\n",
    "        limit = 3\n",
    "    )\n",
    "\n",
    "    return [hit.payload for hit in search_result]\n"
   ]
  },
  {
   "cell_type": "code",
   "execution_count": null,
   "id": "ce9f0d70",
   "metadata": {},
   "outputs": [],
   "source": [
    "def rag_qdrant(q):\n",
    "    results = search_with_qdrant(q)\n",
    "    prompt = build_prompt(results,q)\n",
    "    response = llm(prompt)\n",
    "    return response\n",
    "\n",
    "rag_response = rag_qdrant(\"give me exercice for fingers\")"
   ]
  },
  {
   "cell_type": "code",
   "execution_count": null,
   "id": "2c2feb31",
   "metadata": {},
   "outputs": [],
   "source": [
    "print(rag_response)"
   ]
  },
  {
   "cell_type": "code",
   "execution_count": null,
   "id": "1b03fabd",
   "metadata": {},
   "outputs": [],
   "source": []
  }
 ],
 "metadata": {
  "kernelspec": {
   "display_name": ".venv",
   "language": "python",
   "name": "python3"
  },
  "language_info": {
   "codemirror_mode": {
    "name": "ipython",
    "version": 3
   },
   "file_extension": ".py",
   "mimetype": "text/x-python",
   "name": "python",
   "nbconvert_exporter": "python",
   "pygments_lexer": "ipython3",
   "version": "3.12.3"
  }
 },
 "nbformat": 4,
 "nbformat_minor": 5
}
